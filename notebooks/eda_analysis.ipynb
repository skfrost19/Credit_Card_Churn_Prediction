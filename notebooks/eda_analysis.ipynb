{
 "cells": [
  {
   "cell_type": "code",
   "execution_count": 1,
   "id": "dcaf01b0",
   "metadata": {},
   "outputs": [
    {
     "name": "stdout",
     "output_type": "stream",
     "text": [
      "Libraries imported successfully!\n"
     ]
    }
   ],
   "source": [
    "import pandas as pd\n",
    "import numpy as np\n",
    "\n",
    "import matplotlib.pyplot as plt\n",
    "import seaborn as sns\n",
    "import plotly.express as px\n",
    "import plotly.graph_objects as go\n",
    "from plotly.subplots import make_subplots\n",
    "\n",
    "import warnings\n",
    "warnings.filterwarnings('ignore')\n",
    "\n",
    "plt.style.use('seaborn-v0_8')\n",
    "sns.set_palette(\"husl\")\n",
    "pd.set_option('display.max_columns', None)\n",
    "\n",
    "print(\"Libraries imported successfully!\")"
   ]
  },
  {
   "cell_type": "markdown",
   "id": "f8257250",
   "metadata": {},
   "source": [
    "## data preprocessing - Cleaning"
   ]
  },
  {
   "cell_type": "code",
   "execution_count": 2,
   "id": "caa6f69a",
   "metadata": {},
   "outputs": [
    {
     "name": "stdout",
     "output_type": "stream",
     "text": [
      "Dataset loaded successfully!\n",
      "Shape: (1010, 10)\n"
     ]
    },
    {
     "data": {
      "text/html": [
       "<div>\n",
       "<style scoped>\n",
       "    .dataframe tbody tr th:only-of-type {\n",
       "        vertical-align: middle;\n",
       "    }\n",
       "\n",
       "    .dataframe tbody tr th {\n",
       "        vertical-align: top;\n",
       "    }\n",
       "\n",
       "    .dataframe thead th {\n",
       "        text-align: right;\n",
       "    }\n",
       "</style>\n",
       "<table border=\"1\" class=\"dataframe\">\n",
       "  <thead>\n",
       "    <tr style=\"text-align: right;\">\n",
       "      <th></th>\n",
       "      <th>CustomerID</th>\n",
       "      <th>Gender</th>\n",
       "      <th>Age</th>\n",
       "      <th>Tenure</th>\n",
       "      <th>Balance</th>\n",
       "      <th>NumOfProducts</th>\n",
       "      <th>HasCrCard</th>\n",
       "      <th>IsActiveMember</th>\n",
       "      <th>EstimatedSalary</th>\n",
       "      <th>Churn</th>\n",
       "    </tr>\n",
       "  </thead>\n",
       "  <tbody>\n",
       "    <tr>\n",
       "      <th>0</th>\n",
       "      <td>CUST0001</td>\n",
       "      <td>Male</td>\n",
       "      <td>56.0</td>\n",
       "      <td>4.0</td>\n",
       "      <td>0.00</td>\n",
       "      <td>4.0</td>\n",
       "      <td>0.0</td>\n",
       "      <td>0.0</td>\n",
       "      <td>40282.42</td>\n",
       "      <td>1.0</td>\n",
       "    </tr>\n",
       "    <tr>\n",
       "      <th>1</th>\n",
       "      <td>CUST0002</td>\n",
       "      <td>NaN</td>\n",
       "      <td>28.0</td>\n",
       "      <td>8.0</td>\n",
       "      <td>67408.01</td>\n",
       "      <td>4.0</td>\n",
       "      <td>0.0</td>\n",
       "      <td>1.0</td>\n",
       "      <td>27333.51</td>\n",
       "      <td>0.0</td>\n",
       "    </tr>\n",
       "    <tr>\n",
       "      <th>2</th>\n",
       "      <td>CUST0003</td>\n",
       "      <td>Female</td>\n",
       "      <td>47.0</td>\n",
       "      <td>6.0</td>\n",
       "      <td>1154.97</td>\n",
       "      <td>1.0</td>\n",
       "      <td>0.0</td>\n",
       "      <td>1.0</td>\n",
       "      <td>99514.91</td>\n",
       "      <td>1.0</td>\n",
       "    </tr>\n",
       "    <tr>\n",
       "      <th>3</th>\n",
       "      <td>CUST0004</td>\n",
       "      <td>Male</td>\n",
       "      <td>42.0</td>\n",
       "      <td>1.0</td>\n",
       "      <td>0.00</td>\n",
       "      <td>2.0</td>\n",
       "      <td>1.0</td>\n",
       "      <td>1.0</td>\n",
       "      <td>146588.22</td>\n",
       "      <td>0.0</td>\n",
       "    </tr>\n",
       "    <tr>\n",
       "      <th>4</th>\n",
       "      <td>CUST0005</td>\n",
       "      <td>Male</td>\n",
       "      <td>64.0</td>\n",
       "      <td>3.0</td>\n",
       "      <td>77109.94</td>\n",
       "      <td>4.0</td>\n",
       "      <td>0.0</td>\n",
       "      <td>0.0</td>\n",
       "      <td>131792.25</td>\n",
       "      <td>0.0</td>\n",
       "    </tr>\n",
       "  </tbody>\n",
       "</table>\n",
       "</div>"
      ],
      "text/plain": [
       "  CustomerID  Gender   Age  Tenure   Balance  NumOfProducts HasCrCard  \\\n",
       "0   CUST0001    Male  56.0     4.0      0.00            4.0       0.0   \n",
       "1   CUST0002     NaN  28.0     8.0  67408.01            4.0       0.0   \n",
       "2   CUST0003  Female  47.0     6.0   1154.97            1.0       0.0   \n",
       "3   CUST0004    Male  42.0     1.0      0.00            2.0       1.0   \n",
       "4   CUST0005    Male  64.0     3.0  77109.94            4.0       0.0   \n",
       "\n",
       "  IsActiveMember  EstimatedSalary Churn  \n",
       "0            0.0         40282.42   1.0  \n",
       "1            1.0         27333.51   0.0  \n",
       "2            1.0         99514.91   1.0  \n",
       "3            1.0        146588.22   0.0  \n",
       "4            0.0        131792.25   0.0  "
      ]
     },
     "execution_count": 2,
     "metadata": {},
     "output_type": "execute_result"
    }
   ],
   "source": [
    "# Load the dataset\n",
    "data_path = '../data/exl_credit_card_churn_data.csv'\n",
    "df = pd.read_csv(data_path)\n",
    "\n",
    "print(f\"Dataset loaded successfully!\")\n",
    "print(f\"Shape: {df.shape}\")\n",
    "\n",
    "# Display first few rows\n",
    "df.head()"
   ]
  },
  {
   "cell_type": "code",
   "execution_count": 3,
   "id": "e70f9e4d",
   "metadata": {},
   "outputs": [
    {
     "data": {
      "text/plain": [
       "np.int64(3)"
      ]
     },
     "execution_count": 3,
     "metadata": {},
     "output_type": "execute_result"
    }
   ],
   "source": [
    "df['Churn'].isna().sum()"
   ]
  },
  {
   "cell_type": "code",
   "execution_count": 4,
   "id": "91f34cec",
   "metadata": {},
   "outputs": [
    {
     "data": {
      "text/plain": [
       "Churn\n",
       "0.0      523\n",
       "1.0      478\n",
       "2          3\n",
       "2.0        2\n",
       "Maybe      1\n",
       "Name: count, dtype: int64"
      ]
     },
     "execution_count": 4,
     "metadata": {},
     "output_type": "execute_result"
    }
   ],
   "source": [
    "df['Churn'].value_counts()"
   ]
  },
  {
   "cell_type": "code",
   "execution_count": 5,
   "id": "6e7a6c6a",
   "metadata": {},
   "outputs": [],
   "source": [
    "# remove the CustomerID column (not needed for analysis)\n",
    "df.drop(columns=['CustomerID'], inplace=True)"
   ]
  },
  {
   "cell_type": "code",
   "execution_count": 6,
   "id": "02545e04",
   "metadata": {},
   "outputs": [
    {
     "data": {
      "text/plain": [
       "Gender             6\n",
       "Age                2\n",
       "Tenure             3\n",
       "Balance            4\n",
       "NumOfProducts      4\n",
       "HasCrCard          2\n",
       "IsActiveMember     5\n",
       "EstimatedSalary    1\n",
       "Churn              3\n",
       "dtype: int64"
      ]
     },
     "execution_count": 6,
     "metadata": {},
     "output_type": "execute_result"
    }
   ],
   "source": [
    "# Check for missing values\n",
    "missing_values = df.isnull().sum()\n",
    "missing_values"
   ]
  },
  {
   "cell_type": "code",
   "execution_count": 7,
   "id": "e0291960",
   "metadata": {},
   "outputs": [
    {
     "name": "stdout",
     "output_type": "stream",
     "text": [
      "\n",
      "Null values after filling:\n",
      "Gender             0\n",
      "Age                0\n",
      "Tenure             0\n",
      "Balance            0\n",
      "NumOfProducts      0\n",
      "HasCrCard          0\n",
      "IsActiveMember     0\n",
      "EstimatedSalary    0\n",
      "Churn              0\n",
      "dtype: int64\n"
     ]
    }
   ],
   "source": [
    "# fill the null values\n",
    "# for gender,Churn,hascrcard,isactivemember -> fill mode\n",
    "# for age, Tenure,balance,numofproducts,estimatedsalary -> fill mean\n",
    "\n",
    "df['Gender'] = df['Gender'].fillna(df['Gender'].mode()[0])\n",
    "df['Age'] = df['Age'].fillna(df['Age'].mean())\n",
    "df['Tenure'] = df['Tenure'].fillna(df['Tenure'].mean())\n",
    "df['Balance'] = df['Balance'].fillna(df['Balance'].mean())\n",
    "df['NumOfProducts'] = df['NumOfProducts'].fillna(df['NumOfProducts'].mean())\n",
    "df['EstimatedSalary'] = df['EstimatedSalary'].fillna(df['EstimatedSalary'].mean())\n",
    "df['Churn'] = df['Churn'].fillna(df['Churn'].mode()[0])\n",
    "df['HasCrCard'] = df['HasCrCard'].fillna(df['HasCrCard'].mode()[0])\n",
    "df['IsActiveMember'] = df['IsActiveMember'].fillna(df['IsActiveMember'].mode()[0])\n",
    "\n",
    "# Check for null values again\n",
    "null_values = df.isnull().sum()\n",
    "print(\"\\nNull values after filling:\")\n",
    "print(null_values)"
   ]
  },
  {
   "cell_type": "code",
   "execution_count": 8,
   "id": "f01482a3",
   "metadata": {},
   "outputs": [
    {
     "data": {
      "text/plain": [
       "Churn\n",
       "0.0      526\n",
       "1.0      478\n",
       "2          3\n",
       "2.0        2\n",
       "Maybe      1\n",
       "Name: count, dtype: int64"
      ]
     },
     "execution_count": 8,
     "metadata": {},
     "output_type": "execute_result"
    }
   ],
   "source": [
    "df['Churn'].value_counts()"
   ]
  },
  {
   "cell_type": "code",
   "execution_count": 9,
   "id": "c22a7b9e",
   "metadata": {},
   "outputs": [
    {
     "name": "stdout",
     "output_type": "stream",
     "text": [
      "Before fixing object columns:\n",
      "Column: Gender, Unique Values: ['Male' 'Female' 'FEMALE' ' male ' 'MALE' ' Female']\n",
      "Column: HasCrCard, Unique Values: ['0.0' '1.0' '2.0' 'Yes']\n",
      "Column: IsActiveMember, Unique Values: ['0.0' '1.0' '-1' 'No' '-1.0']\n",
      "Column: Churn, Unique Values: ['1.0' '0.0' 'Maybe' '2.0' '2']\n",
      "\n",
      "\n",
      "After fixing object columns:\n",
      "Column: Gender, Unique Values: ['Male' 'Female']\n"
     ]
    }
   ],
   "source": [
    "from numpy import dtype\n",
    "\n",
    "columns = df.dtypes.values\n",
    "dtypes = df.dtypes.index\n",
    "\n",
    "print(\"Before fixing object columns:\")\n",
    "for c,d in zip(columns, dtypes):\n",
    "    # print unique of each object column\n",
    "    if c == dtype('O') and d not in ['CustomerID']:\n",
    "        print(f\"Column: {d}, Unique Values: {df[d].unique()}\")\n",
    "\n",
    "print(\"\\n\")\n",
    "# Fix columns Gender, HasCrCard, IsActiveMember and Churn\n",
    "# for Gender = Use title case\n",
    "# for HasCrCard = Convert to int and slice to either 0 or 1 (if smthing is > 1 and 0 if smthing is < 0)\n",
    "# for IsActiveMember = Convert to int and slice to either 0 or 1 (if smthing is > 1 and 0 if smthing is < 0)\n",
    "# for Churn = Convert to int and slice to either 0 or 1 (if smthing is > 1 and 0 if smthing is < 0) and map 'Maybe' to 2 (for now).\n",
    "\n",
    "df['Gender'] = df['Gender'].str.strip().str.title()\n",
    "df['HasCrCard'] = df['HasCrCard'].apply(lambda x: 1 if pd.notna(x) and str(x).isdigit() and float(x) > 0 else 0)\n",
    "df['IsActiveMember'] = df['IsActiveMember'].apply(lambda x: 1 if pd.notna(x) and str(x).isdigit() and float(x) > 0 else 0)\n",
    "df['Churn'] = df['Churn'].map({'0.0': 0, '1.0': 1, '2.0': 2, '2': 2, 'Maybe': 2})\n",
    "\n",
    "columns = df.dtypes.values\n",
    "dtypes = df.dtypes.index\n",
    "print(\"After fixing object columns:\")\n",
    "for c,d in zip(columns, dtypes):\n",
    "    # print unique of each object column\n",
    "    if c == dtype('O') and d not in ['CustomerID']:\n",
    "        print(f\"Column: {d}, Unique Values: {df[d].unique()}\")"
   ]
  },
  {
   "cell_type": "code",
   "execution_count": 10,
   "id": "ab2192c9",
   "metadata": {},
   "outputs": [
    {
     "data": {
      "text/plain": [
       "Churn\n",
       "0    526\n",
       "1    478\n",
       "Name: count, dtype: int64"
      ]
     },
     "execution_count": 10,
     "metadata": {},
     "output_type": "execute_result"
    }
   ],
   "source": [
    "df['Churn'].value_counts()\n",
    "# Since 2 has very less count, we can drop it for now\n",
    "df = df[df['Churn'] != 2]\n",
    "\n",
    "df['Churn'].value_counts()"
   ]
  },
  {
   "cell_type": "code",
   "execution_count": 11,
   "id": "26194b2b",
   "metadata": {},
   "outputs": [],
   "source": [
    "# save the cleaned dataset\n",
    "df.to_parquet('../data/exl_credit_card_churn_data_cleaned.parquet', index=False)"
   ]
  }
 ],
 "metadata": {
  "kernelspec": {
   "display_name": "exl-credit-card-churn-prediction",
   "language": "python",
   "name": "python3"
  },
  "language_info": {
   "codemirror_mode": {
    "name": "ipython",
    "version": 3
   },
   "file_extension": ".py",
   "mimetype": "text/x-python",
   "name": "python",
   "nbconvert_exporter": "python",
   "pygments_lexer": "ipython3",
   "version": "3.10.0"
  }
 },
 "nbformat": 4,
 "nbformat_minor": 5
}
